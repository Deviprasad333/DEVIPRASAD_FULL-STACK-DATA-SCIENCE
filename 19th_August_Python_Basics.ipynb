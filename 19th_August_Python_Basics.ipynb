{
 "cells": [
  {
   "cell_type": "markdown",
   "id": "84553795-0eba-416c-9ef3-f80eaacc41c6",
   "metadata": {},
   "source": [
    "TOPIC: Python Basics Variable"
   ]
  },
  {
   "cell_type": "markdown",
   "id": "6a805726-7964-4cb3-8dc3-22a9389e5bae",
   "metadata": {},
   "source": [
    "1. Declare two variables, `x` and `y`, and assign them integer values. Swap the\n",
    "values of these variables without using any temporary variable."
   ]
  },
  {
   "cell_type": "code",
   "execution_count": 6,
   "id": "4e767805-9d2b-4179-a50a-da72596a1308",
   "metadata": {},
   "outputs": [
    {
     "name": "stdout",
     "output_type": "stream",
     "text": [
      "x = 10\n",
      "y = 5\n"
     ]
    }
   ],
   "source": [
    "x = 5\n",
    "y = 10\n",
    "x, y = y, x\n",
    "\n",
    "print(\"x =\", x)  \n",
    "print(\"y =\", y)  \n"
   ]
  },
  {
   "cell_type": "markdown",
   "id": "863fd327-6f9a-44fb-892e-c1952b3602b5",
   "metadata": {},
   "source": [
    "This code works by first assigning the value of y to x, and then assigning the value of x to y. This effectively swaps the values of the two variables without using any temporary storage.\n",
    "\n"
   ]
  },
  {
   "cell_type": "markdown",
   "id": "70d4609c-9f96-49a6-8e51-9a28d12a3e00",
   "metadata": {},
   "source": [
    "2. Create a program that calculates the area of a rectangle. Take the length and\n",
    "width as inputs from the user and store them in variables. Calculate and\n",
    "display the area."
   ]
  },
  {
   "cell_type": "code",
   "execution_count": 9,
   "id": "d4563dcb-2164-4e39-aaaf-80fc2fd0e332",
   "metadata": {},
   "outputs": [
    {
     "name": "stdin",
     "output_type": "stream",
     "text": [
      "Enter the length of the rectangle:  2\n",
      "Enter the width of the rectangle:  3\n"
     ]
    },
    {
     "name": "stdout",
     "output_type": "stream",
     "text": [
      "The area of the rectangle is: 6.0\n"
     ]
    }
   ],
   "source": [
    "\n",
    "length = float(input(\"Enter the length of the rectangle: \"))\n",
    "width = float(input(\"Enter the width of the rectangle: \"))\n",
    "\n",
    "\n",
    "area = length * width\n",
    "\n",
    "print(\"The area of the rectangle is:\", area)\n"
   ]
  },
  {
   "cell_type": "markdown",
   "id": "21fffcdc-7cf2-47cf-b0de-c5e3ac4c9d23",
   "metadata": {},
   "source": [
    "This code first prompts the user to enter the length and width of the rectangle. The input values are converted to floating-point numbers using the float() function. The area is then calculated by multiplying the length and width. Finally, the area is displayed to the user."
   ]
  },
  {
   "cell_type": "markdown",
   "id": "f2b6feea-fa53-4d9c-9729-5c66b00c939f",
   "metadata": {},
   "source": [
    "3. Write a Python program that converts temperatures from Celsius to\n",
    "Fahrenheit. Take the temperature in Celsius as input, store it in a variable,\n",
    "convert it to Fahrenheit, and display the result."
   ]
  },
  {
   "cell_type": "code",
   "execution_count": 10,
   "id": "9eea4f18-0156-4ee2-9c39-12da2c1a499a",
   "metadata": {},
   "outputs": [
    {
     "name": "stdin",
     "output_type": "stream",
     "text": [
      "Enter the temperature in Celsius:  38.5\n"
     ]
    },
    {
     "name": "stdout",
     "output_type": "stream",
     "text": [
      "The temperature in Fahrenheit is: 101.3\n"
     ]
    }
   ],
   "source": [
    "\n",
    "celsius = float(input(\"Enter the temperature in Celsius: \"))\n",
    "\n",
    "fahrenheit = (celsius * 9/5) + 32\n",
    "\n",
    "print(\"The temperature in Fahrenheit is:\", fahrenheit)\n"
   ]
  },
  {
   "cell_type": "markdown",
   "id": "1483268d-4004-4857-995d-5b843c053ad3",
   "metadata": {},
   "source": [
    "In this code, the celsius variable is used to store the temperature input by the user. Then, the temperature is converted to Fahrenheit using the formula: fahrenheit = (celsius * 9/5) + 32. Finally, the converted temperature in Fahrenheit is displayed to the user."
   ]
  },
  {
   "cell_type": "markdown",
   "id": "c7789ea9-9da6-4d79-bd03-df08b3d3227d",
   "metadata": {},
   "source": [
    "TOPIC: String Based Questions"
   ]
  },
  {
   "cell_type": "markdown",
   "id": "d86d7a00-c7d0-4b85-81c0-eae1bb865bbb",
   "metadata": {},
   "source": [
    "1. Write a Python program that takes a string as input and prints the length of\n",
    "the string."
   ]
  },
  {
   "cell_type": "code",
   "execution_count": 11,
   "id": "082d1790-10ba-4950-8816-5999b8418bea",
   "metadata": {},
   "outputs": [
    {
     "name": "stdin",
     "output_type": "stream",
     "text": [
      "Enter a string:  devi\n"
     ]
    },
    {
     "name": "stdout",
     "output_type": "stream",
     "text": [
      "The length of the string is: 4\n"
     ]
    }
   ],
   "source": [
    "\n",
    "input_string = input(\"Enter a string: \")\n",
    "\n",
    "\n",
    "string_length = len(input_string)\n",
    "\n",
    "print(\"The length of the string is:\", string_length)\n"
   ]
  },
  {
   "cell_type": "markdown",
   "id": "675ded83-6373-4a2e-b387-24810d118b1a",
   "metadata": {},
   "source": [
    "This program first prompts the user to enter a string. Then, it uses the built-in len() function to calculate the length of the input string. Finally, it prints the length of the input string to the console"
   ]
  },
  {
   "cell_type": "markdown",
   "id": "e465ee33-162a-46e5-a317-3909dabf400d",
   "metadata": {},
   "source": [
    "2. Create a program that takes a sentence from the user and counts the number\n",
    "of vowels (a, e, i, o, u) in the string."
   ]
  },
  {
   "cell_type": "code",
   "execution_count": 14,
   "id": "a71e1a87-dfce-4b30-9d7f-7eba57e09fe9",
   "metadata": {},
   "outputs": [
    {
     "name": "stdin",
     "output_type": "stream",
     "text": [
      "Enter a sentence:  My name is devi\n"
     ]
    },
    {
     "name": "stdout",
     "output_type": "stream",
     "text": [
      "The number of vowels in the sentence is: 5\n"
     ]
    }
   ],
   "source": [
    "vowels={'a','e','i','o','u','A','E','I','O','U'}\n",
    "sentence = input(\"Enter a sentence: \")\n",
    "vowel_count = 0\n",
    "\n",
    "for letter in sentence:\n",
    "    if letter in vowels:\n",
    "        vowel_count += 1\n",
    "\n",
    "print(\"The number of vowels in the sentence is:\", vowel_count)\n"
   ]
  },
  {
   "cell_type": "markdown",
   "id": "9178786b-bc52-4962-a042-22e744e6399e",
   "metadata": {},
   "source": [
    "This program first creates a set of vowels using the set() function. Then, it prompts the user to enter a sentence. The program then iterates over each letter in the sentence and checks if the letter is in the set of vowels. If it is, the vowel_count variable is incremented. Finally, the vowel_count variable is printed to the console."
   ]
  },
  {
   "cell_type": "markdown",
   "id": "723e568c-206e-4a72-959b-8084b508e587",
   "metadata": {},
   "source": [
    "3. Given a string, reverse the order of characters using string slicing and print\n",
    "the reversed string."
   ]
  },
  {
   "cell_type": "code",
   "execution_count": 16,
   "id": "531be736-1169-4b83-b632-513188ec3333",
   "metadata": {},
   "outputs": [
    {
     "name": "stdout",
     "output_type": "stream",
     "text": [
      "The reversed string is: !dasarp ived\n"
     ]
    }
   ],
   "source": [
    "input_string = \"devi prasad!\"\n",
    "reversed_string = input_string[::-1]\n",
    "print(\"The reversed string is:\", reversed_string)\n"
   ]
  },
  {
   "cell_type": "markdown",
   "id": "c983ef34-d25f-45df-a3f5-aae66f68f3a1",
   "metadata": {},
   "source": [
    "This code works by slicing the input string from the end to the beginning, with a step of -1. This effectively reverses the order of the characters in the string. The reversed string is then stored in the reversed_string variable and printed to the console.\n",
    "\n"
   ]
  },
  {
   "cell_type": "markdown",
   "id": "f158a6c8-a4e3-40d5-a258-2bd2144da51e",
   "metadata": {},
   "source": [
    "4. Write a program that takes a string as input and checks if it is a palindrome\n",
    "(reads the same forwards and backwards)."
   ]
  },
  {
   "cell_type": "code",
   "execution_count": 19,
   "id": "ca777c26-ed4b-422d-82a0-470a8a67b7e5",
   "metadata": {},
   "outputs": [
    {
     "name": "stdin",
     "output_type": "stream",
     "text": [
      "Enter a string:  malayalam\n"
     ]
    },
    {
     "name": "stdout",
     "output_type": "stream",
     "text": [
      "malayalam is a palindrome\n"
     ]
    }
   ],
   "source": [
    "def is_palindrome(input_string):\n",
    "    \n",
    "    if input_string == input_string[::-1]:\n",
    "        return True\n",
    "    else:\n",
    "        return False\n",
    "\n",
    "# Get the input string from the user\n",
    "input_string = input(\"Enter a string: \")\n",
    "\n",
    "# Check if the input string is a palindrome\n",
    "if is_palindrome(input_string):\n",
    "    print(input_string, \"is a palindrome\")\n",
    "else:\n",
    "    print(input_string, \"is not a palindrome\")\n"
   ]
  },
  {
   "cell_type": "markdown",
   "id": "1b4b6649-2b2c-4df6-88d0-5f0496452b2f",
   "metadata": {},
   "source": [
    "5. Create a program that takes a string as input and removes all the spaces from\n",
    "it. Print the modified string without spaces."
   ]
  },
  {
   "cell_type": "code",
   "execution_count": 28,
   "id": "17135c39-0412-43cf-84ee-d09d1456cf25",
   "metadata": {},
   "outputs": [
    {
     "name": "stdin",
     "output_type": "stream",
     "text": [
      "Enter a string:  devi is a good boy\n"
     ]
    },
    {
     "name": "stdout",
     "output_type": "stream",
     "text": [
      "The modified string without spaces is: deviisagoodboy\n"
     ]
    }
   ],
   "source": [
    "user_input = input(\"Enter a string: \")\n",
    "modified_string = user_input.replace(\" \", \"\")\n",
    "print(\"The modified string without spaces is:\", modified_string)\n"
   ]
  },
  {
   "cell_type": "code",
   "execution_count": null,
   "id": "619c8bdc-597f-4d51-aa20-7261420daacf",
   "metadata": {},
   "outputs": [],
   "source": []
  }
 ],
 "metadata": {
  "kernelspec": {
   "display_name": "Python 3 (ipykernel)",
   "language": "python",
   "name": "python3"
  },
  "language_info": {
   "codemirror_mode": {
    "name": "ipython",
    "version": 3
   },
   "file_extension": ".py",
   "mimetype": "text/x-python",
   "name": "python",
   "nbconvert_exporter": "python",
   "pygments_lexer": "ipython3",
   "version": "3.10.8"
  }
 },
 "nbformat": 4,
 "nbformat_minor": 5
}
